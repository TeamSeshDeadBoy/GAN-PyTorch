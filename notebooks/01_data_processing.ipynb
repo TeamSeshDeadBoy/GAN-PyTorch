{
 "cells": [
  {
   "cell_type": "markdown",
   "metadata": {},
   "source": [
    "# 0. Downloading Dataset"
   ]
  },
  {
   "cell_type": "markdown",
   "metadata": {},
   "source": [
    "Для своих GAN моделей я использую датасет `Pokemon Generation Images` от `@truthisneverlinear` с `kaggle.com`   \n",
    "В датасете: `39180` подходящих изображений формата `.png` различного размера   \n",
    "Загружаем `.zip` файл с `kaggle.com` и разархивируем его через **kaggle_api**:\n",
    "\n",
    "For my GAN models I am using `Pokemon Generation Images` by `@truthisneverlinear` from `kaggle.com`   \n",
    "There are: `39180` images (.png) in this dataset   \n",
    "To download and unzip the data we are using **kaggle_api** lib:"
   ]
  },
  {
   "cell_type": "code",
   "execution_count": 1,
   "metadata": {},
   "outputs": [
    {
     "name": "stdout",
     "output_type": "stream",
     "text": [
      "Skipping download\n"
     ]
    }
   ],
   "source": [
    "from pathlib import Path \n",
    "import kaggle\n",
    "import os\n",
    "\n",
    "DATA_PATH = Path(\"../data\")\n",
    "POKEMON_PATH = DATA_PATH / \"pokemon\"\n",
    "\n",
    "if POKEMON_PATH.is_dir():\n",
    "    print(\"Skipping download\")\n",
    "else:\n",
    "    print(\"Downloading Data\")\n",
    "    DATA_PATH.mkdir(parents=True, exist_ok=True)\n",
    "    os.environ['KAGGLE_USERNAME'] = \"YOUR_KAGGLE_USERNAME\" # Username from kaggle.com\n",
    "    os.environ['KAGGLE_KEY'] = \"YOUR_KAGGLE_API_KEY\" # Get you API key on kagle.com\n",
    "\n",
    "    kaggle.api.dataset_download_files('truthisneverlinear/pokemon-generations-image-dataset/2', path=DATA_PATH, unzip=True)\n",
    "        "
   ]
  },
  {
   "cell_type": "code",
   "execution_count": 2,
   "metadata": {},
   "outputs": [],
   "source": [
    "def dir_walkthrough(dir_path: Path) -> None:\n",
    "    \"\"\"Function that outputs number of images in subdirectories of given folders\n",
    "\n",
    "    Args:\n",
    "        dir_path (str): A str or pathlib.Path - like object\n",
    "    \"\"\"\n",
    "    for dirpath, dirnames, filenames in os.walk(dir_path):\n",
    "        print(f\"There are {len(dirnames)} directories and {len(filenames)} images in {dirpath}.\")"
   ]
  },
  {
   "cell_type": "markdown",
   "metadata": {},
   "source": [
    "Выводим кол-во фотографиий в суб-каталогах:   \n",
    "\\# of Images in subdirectories:"
   ]
  },
  {
   "cell_type": "code",
   "execution_count": 4,
   "metadata": {},
   "outputs": [
    {
     "name": "stdout",
     "output_type": "stream",
     "text": [
      "There are 1 directories and 0 images in ..\\data\\pokemon.\n",
      "There are 0 directories and 39180 images in ..\\data\\pokemon\\raw.\n"
     ]
    }
   ],
   "source": [
    "dir_walkthrough(POKEMON_PATH)"
   ]
  },
  {
   "cell_type": "markdown",
   "metadata": {},
   "source": [
    "# 1. Dataset formatting"
   ]
  },
  {
   "cell_type": "markdown",
   "metadata": {},
   "source": [
    "Датасет распределен по субкаталогам, разделенный на классы и поколения покемонов. Для нашей задачи необходимо отфильтровать фотографии и разместить их в один каталог `/raw`.   \n",
    "Так как изображдения содержат метки классов в своих названиях, они могут повторяться. Для этого изменяем названия при перемещении:   \n",
    "`100.png` -> `100-random_generated_int.png`\n",
    "\n",
    "Our dataset is divided into multiple sub-folders by pokemon types and generations.    \n",
    "We need to preprocess our data and merge all the files into on folder `/raw`.   \n",
    "The images names need to be altered when merging, due to them being the same - containing only the pokemon class labels. We use a random generated number and merge it inside original image name:   \n",
    "`100.png` -> `100-27698457128.png`"
   ]
  },
  {
   "cell_type": "code",
   "execution_count": 6,
   "metadata": {},
   "outputs": [],
   "source": [
    "import shutil\n",
    "import os\n",
    "import random\n",
    "\n",
    "def recursive_move_files(path: str | Path) -> None:\n",
    "    \"\"\"A function takes the Path, recursively walks it and moves ALL found files into root of given subdirectory.\n",
    "\n",
    "    Args:\n",
    "        path (str or pathlib.Path): A path of a root directory.\n",
    "    \"\"\"\n",
    "    target_dir = path\n",
    "    \n",
    "    for dirpath, dirnames, filenames in os.walk(target_dir):\n",
    "        print(f\"Moving {len(filenames)} images in {dirpath}.\")\n",
    "        for file_name in filenames:\n",
    "            try:\n",
    "                shutil.move(os.path.join(dirpath, file_name), target_dir)\n",
    "            except:\n",
    "                file_name_arr = file_name.split('.')\n",
    "                new_file_name = file_name_arr[0]+'-'+str(random.randrange(10000000))+'.'+file_name_arr[1]\n",
    "                shutil.move(os.path.join(dirpath, file_name), target_dir / new_file_name)\n",
    "                "
   ]
  },
  {
   "cell_type": "markdown",
   "metadata": {},
   "source": [
    "Перемещаем файлы в корень `data/pokemon`:   \n",
    "Moving files to the root of `data/pokemon`:"
   ]
  },
  {
   "cell_type": "code",
   "execution_count": 15,
   "metadata": {},
   "outputs": [
    {
     "name": "stdout",
     "output_type": "stream",
     "text": [
      "Moving 0 images in ..\\data\\pokemon.\n",
      "Moving 202 images in ..\\data\\pokemon\\conquest.\n",
      "Moving 942 images in ..\\data\\pokemon\\icons.\n",
      "Moving 5 images in ..\\data\\pokemon\\icons\\female.\n",
      "Moving 737 images in ..\\data\\pokemon\\icons\\old.\n",
      "Moving 3 images in ..\\data\\pokemon\\icons\\old\\female.\n",
      "Moving 80 images in ..\\data\\pokemon\\icons\\right.\n",
      "Moving 0 images in ..\\data\\pokemon\\main-sprites.\n",
      "Moving 754 images in ..\\data\\pokemon\\main-sprites\\black-white.\n",
      "Moving 754 images in ..\\data\\pokemon\\main-sprites\\black-white\\back.\n",
      "Moving 88 images in ..\\data\\pokemon\\main-sprites\\black-white\\back\\female.\n",
      "Moving 753 images in ..\\data\\pokemon\\main-sprites\\black-white\\back\\shiny.\n",
      "Moving 88 images in ..\\data\\pokemon\\main-sprites\\black-white\\back\\shiny\\female.\n",
      "Moving 93 images in ..\\data\\pokemon\\main-sprites\\black-white\\female.\n",
      "Moving 753 images in ..\\data\\pokemon\\main-sprites\\black-white\\shiny.\n",
      "Moving 93 images in ..\\data\\pokemon\\main-sprites\\black-white\\shiny\\female.\n",
      "Moving 277 images in ..\\data\\pokemon\\main-sprites\\crystal.\n",
      "Moving 251 images in ..\\data\\pokemon\\main-sprites\\crystal\\animated.\n",
      "Moving 251 images in ..\\data\\pokemon\\main-sprites\\crystal\\animated\\shiny.\n",
      "Moving 277 images in ..\\data\\pokemon\\main-sprites\\crystal\\back.\n",
      "Moving 277 images in ..\\data\\pokemon\\main-sprites\\crystal\\back\\shiny.\n",
      "Moving 277 images in ..\\data\\pokemon\\main-sprites\\crystal\\shiny.\n",
      "Moving 560 images in ..\\data\\pokemon\\main-sprites\\diamond-pearl.\n",
      "Moving 561 images in ..\\data\\pokemon\\main-sprites\\diamond-pearl\\back.\n",
      "Moving 79 images in ..\\data\\pokemon\\main-sprites\\diamond-pearl\\back\\female.\n",
      "Moving 560 images in ..\\data\\pokemon\\main-sprites\\diamond-pearl\\back\\shiny.\n",
      "Moving 79 images in ..\\data\\pokemon\\main-sprites\\diamond-pearl\\back\\shiny\\female.\n",
      "Moving 90 images in ..\\data\\pokemon\\main-sprites\\diamond-pearl\\female.\n",
      "Moving 90 images in ..\\data\\pokemon\\main-sprites\\diamond-pearl\\female\\frame2.\n",
      "Moving 560 images in ..\\data\\pokemon\\main-sprites\\diamond-pearl\\frame2.\n",
      "Moving 560 images in ..\\data\\pokemon\\main-sprites\\diamond-pearl\\shiny.\n",
      "Moving 90 images in ..\\data\\pokemon\\main-sprites\\diamond-pearl\\shiny\\female.\n",
      "Moving 90 images in ..\\data\\pokemon\\main-sprites\\diamond-pearl\\shiny\\female\\frame2.\n",
      "Moving 560 images in ..\\data\\pokemon\\main-sprites\\diamond-pearl\\shiny\\frame2.\n",
      "Moving 419 images in ..\\data\\pokemon\\main-sprites\\emerald.\n",
      "Moving 415 images in ..\\data\\pokemon\\main-sprites\\emerald\\animated.\n",
      "Moving 415 images in ..\\data\\pokemon\\main-sprites\\emerald\\animated\\shiny.\n",
      "Moving 419 images in ..\\data\\pokemon\\main-sprites\\emerald\\frame2.\n",
      "Moving 419 images in ..\\data\\pokemon\\main-sprites\\emerald\\shiny.\n",
      "Moving 419 images in ..\\data\\pokemon\\main-sprites\\emerald\\shiny\\frame2.\n",
      "Moving 156 images in ..\\data\\pokemon\\main-sprites\\firered-leafgreen.\n",
      "Moving 156 images in ..\\data\\pokemon\\main-sprites\\firered-leafgreen\\back.\n",
      "Moving 156 images in ..\\data\\pokemon\\main-sprites\\firered-leafgreen\\back\\shiny.\n",
      "Moving 156 images in ..\\data\\pokemon\\main-sprites\\firered-leafgreen\\shiny.\n",
      "Moving 277 images in ..\\data\\pokemon\\main-sprites\\gold.\n",
      "Moving 277 images in ..\\data\\pokemon\\main-sprites\\gold\\back.\n",
      "Moving 277 images in ..\\data\\pokemon\\main-sprites\\gold\\back\\shiny.\n",
      "Moving 277 images in ..\\data\\pokemon\\main-sprites\\gold\\shiny.\n",
      "Moving 574 images in ..\\data\\pokemon\\main-sprites\\heartgold-soulsilver.\n",
      "Moving 570 images in ..\\data\\pokemon\\main-sprites\\heartgold-soulsilver\\back.\n",
      "Moving 83 images in ..\\data\\pokemon\\main-sprites\\heartgold-soulsilver\\back\\female.\n",
      "Moving 83 images in ..\\data\\pokemon\\main-sprites\\heartgold-soulsilver\\back\\female\\frame2.\n",
      "Moving 569 images in ..\\data\\pokemon\\main-sprites\\heartgold-soulsilver\\back\\frame2.\n",
      "Moving 569 images in ..\\data\\pokemon\\main-sprites\\heartgold-soulsilver\\back\\shiny.\n",
      "Moving 83 images in ..\\data\\pokemon\\main-sprites\\heartgold-soulsilver\\back\\shiny\\female.\n",
      "Moving 83 images in ..\\data\\pokemon\\main-sprites\\heartgold-soulsilver\\back\\shiny\\female\\frame2.\n",
      "Moving 568 images in ..\\data\\pokemon\\main-sprites\\heartgold-soulsilver\\back\\shiny\\frame2.\n",
      "Moving 90 images in ..\\data\\pokemon\\main-sprites\\heartgold-soulsilver\\female.\n",
      "Moving 90 images in ..\\data\\pokemon\\main-sprites\\heartgold-soulsilver\\female\\frame2.\n",
      "Moving 571 images in ..\\data\\pokemon\\main-sprites\\heartgold-soulsilver\\frame2.\n",
      "Moving 569 images in ..\\data\\pokemon\\main-sprites\\heartgold-soulsilver\\shiny.\n",
      "Moving 90 images in ..\\data\\pokemon\\main-sprites\\heartgold-soulsilver\\shiny\\female.\n",
      "Moving 90 images in ..\\data\\pokemon\\main-sprites\\heartgold-soulsilver\\shiny\\female\\frame2.\n",
      "Moving 568 images in ..\\data\\pokemon\\main-sprites\\heartgold-soulsilver\\shiny\\frame2.\n",
      "Moving 567 images in ..\\data\\pokemon\\main-sprites\\platinum.\n",
      "Moving 568 images in ..\\data\\pokemon\\main-sprites\\platinum\\back.\n",
      "Moving 83 images in ..\\data\\pokemon\\main-sprites\\platinum\\back\\female.\n",
      "Moving 83 images in ..\\data\\pokemon\\main-sprites\\platinum\\back\\female\\frame2.\n",
      "Moving 567 images in ..\\data\\pokemon\\main-sprites\\platinum\\back\\frame2.\n",
      "Moving 567 images in ..\\data\\pokemon\\main-sprites\\platinum\\back\\shiny.\n",
      "Moving 83 images in ..\\data\\pokemon\\main-sprites\\platinum\\back\\shiny\\female.\n",
      "Moving 83 images in ..\\data\\pokemon\\main-sprites\\platinum\\back\\shiny\\female\\frame2.\n",
      "Moving 567 images in ..\\data\\pokemon\\main-sprites\\platinum\\back\\shiny\\frame2.\n",
      "Moving 90 images in ..\\data\\pokemon\\main-sprites\\platinum\\female.\n",
      "Moving 90 images in ..\\data\\pokemon\\main-sprites\\platinum\\female\\frame2.\n",
      "Moving 567 images in ..\\data\\pokemon\\main-sprites\\platinum\\frame2.\n",
      "Moving 567 images in ..\\data\\pokemon\\main-sprites\\platinum\\shiny.\n",
      "Moving 90 images in ..\\data\\pokemon\\main-sprites\\platinum\\shiny\\female.\n",
      "Moving 90 images in ..\\data\\pokemon\\main-sprites\\platinum\\shiny\\female\\frame2.\n",
      "Moving 567 images in ..\\data\\pokemon\\main-sprites\\platinum\\shiny\\frame2.\n",
      "Moving 151 images in ..\\data\\pokemon\\main-sprites\\red-blue.\n",
      "Moving 151 images in ..\\data\\pokemon\\main-sprites\\red-blue\\back.\n",
      "Moving 151 images in ..\\data\\pokemon\\main-sprites\\red-blue\\back\\gray.\n",
      "Moving 151 images in ..\\data\\pokemon\\main-sprites\\red-blue\\gray.\n",
      "Moving 151 images in ..\\data\\pokemon\\main-sprites\\red-green.\n",
      "Moving 151 images in ..\\data\\pokemon\\main-sprites\\red-green\\back.\n",
      "Moving 151 images in ..\\data\\pokemon\\main-sprites\\red-green\\back\\gray.\n",
      "Moving 151 images in ..\\data\\pokemon\\main-sprites\\red-green\\gray.\n",
      "Moving 418 images in ..\\data\\pokemon\\main-sprites\\ruby-sapphire.\n",
      "Moving 419 images in ..\\data\\pokemon\\main-sprites\\ruby-sapphire\\back.\n",
      "Moving 419 images in ..\\data\\pokemon\\main-sprites\\ruby-sapphire\\back\\shiny.\n",
      "Moving 419 images in ..\\data\\pokemon\\main-sprites\\ruby-sapphire\\shiny.\n",
      "Moving 277 images in ..\\data\\pokemon\\main-sprites\\silver.\n",
      "Moving 277 images in ..\\data\\pokemon\\main-sprites\\silver\\back.\n",
      "Moving 277 images in ..\\data\\pokemon\\main-sprites\\silver\\back\\shiny.\n",
      "Moving 277 images in ..\\data\\pokemon\\main-sprites\\silver\\shiny.\n",
      "Moving 151 images in ..\\data\\pokemon\\main-sprites\\yellow.\n",
      "Moving 151 images in ..\\data\\pokemon\\main-sprites\\yellow\\back.\n",
      "Moving 151 images in ..\\data\\pokemon\\main-sprites\\yellow\\back\\gbc.\n",
      "Moving 151 images in ..\\data\\pokemon\\main-sprites\\yellow\\back\\gray.\n",
      "Moving 151 images in ..\\data\\pokemon\\main-sprites\\yellow\\gbc.\n",
      "Moving 151 images in ..\\data\\pokemon\\main-sprites\\yellow\\gray.\n",
      "Moving 0 images in ..\\data\\pokemon\\overworld.\n",
      "Moving 564 images in ..\\data\\pokemon\\overworld\\down.\n",
      "Moving 564 images in ..\\data\\pokemon\\overworld\\down\\frame2.\n",
      "Moving 0 images in ..\\data\\pokemon\\overworld\\female.\n",
      "Moving 12 images in ..\\data\\pokemon\\overworld\\female\\down.\n",
      "Moving 12 images in ..\\data\\pokemon\\overworld\\female\\down\\frame2.\n",
      "Moving 12 images in ..\\data\\pokemon\\overworld\\female\\left.\n",
      "Moving 12 images in ..\\data\\pokemon\\overworld\\female\\left\\frame2.\n",
      "Moving 12 images in ..\\data\\pokemon\\overworld\\female\\right.\n",
      "Moving 12 images in ..\\data\\pokemon\\overworld\\female\\right\\frame2.\n",
      "Moving 12 images in ..\\data\\pokemon\\overworld\\female\\up.\n",
      "Moving 12 images in ..\\data\\pokemon\\overworld\\female\\up\\frame2.\n",
      "Moving 564 images in ..\\data\\pokemon\\overworld\\left.\n",
      "Moving 564 images in ..\\data\\pokemon\\overworld\\left\\frame2.\n",
      "Moving 564 images in ..\\data\\pokemon\\overworld\\right.\n",
      "Moving 564 images in ..\\data\\pokemon\\overworld\\right\\frame2.\n",
      "Moving 0 images in ..\\data\\pokemon\\overworld\\shiny.\n",
      "Moving 564 images in ..\\data\\pokemon\\overworld\\shiny\\down.\n",
      "Moving 564 images in ..\\data\\pokemon\\overworld\\shiny\\down\\frame2.\n",
      "Moving 0 images in ..\\data\\pokemon\\overworld\\shiny\\female.\n",
      "Moving 12 images in ..\\data\\pokemon\\overworld\\shiny\\female\\down.\n",
      "Moving 12 images in ..\\data\\pokemon\\overworld\\shiny\\female\\down\\frame2.\n",
      "Moving 12 images in ..\\data\\pokemon\\overworld\\shiny\\female\\left.\n",
      "Moving 12 images in ..\\data\\pokemon\\overworld\\shiny\\female\\left\\frame2.\n",
      "Moving 12 images in ..\\data\\pokemon\\overworld\\shiny\\female\\right.\n",
      "Moving 12 images in ..\\data\\pokemon\\overworld\\shiny\\female\\right\\frame2.\n",
      "Moving 12 images in ..\\data\\pokemon\\overworld\\shiny\\female\\up.\n",
      "Moving 12 images in ..\\data\\pokemon\\overworld\\shiny\\female\\up\\frame2.\n",
      "Moving 564 images in ..\\data\\pokemon\\overworld\\shiny\\left.\n",
      "Moving 564 images in ..\\data\\pokemon\\overworld\\shiny\\left\\frame2.\n",
      "Moving 564 images in ..\\data\\pokemon\\overworld\\shiny\\right.\n",
      "Moving 564 images in ..\\data\\pokemon\\overworld\\shiny\\right\\frame2.\n",
      "Moving 564 images in ..\\data\\pokemon\\overworld\\shiny\\up.\n",
      "Moving 564 images in ..\\data\\pokemon\\overworld\\shiny\\up\\frame2.\n",
      "Moving 564 images in ..\\data\\pokemon\\overworld\\up.\n",
      "Moving 564 images in ..\\data\\pokemon\\overworld\\up\\frame2.\n",
      "Moving 851 images in ..\\data\\pokemon\\sugimori.\n",
      "Moving 5 images in ..\\data\\pokemon\\sugimori\\female.\n"
     ]
    }
   ],
   "source": [
    "recursive_move_files(POKEMON_PATH)"
   ]
  },
  {
   "cell_type": "markdown",
   "metadata": {},
   "source": [
    "## 1.1 Preprocessing formated data\n",
    "Наши данные находятся в одном субкаталоге (корне `data/pokemon`), выполняем последний preprocessing:\n",
    "Выполняем:\n",
    "- Создаем новый субкаталог `/raw`   \n",
    "- Удаляем все `.gif` файлы\n",
    "- перемещаем оставшиеся файлы в `/raw`\n",
    "- Удаляем изображения покемонов класса 0 (не покемоны)\n",
    "\n",
    "Now our data is in the root of `data/pokemon`, finishing data formatting with preprocessing:\n",
    "- Making a new  folder `/raw` to store **ALL** of our processed files\n",
    "- Deleting all `.gif` files\n",
    "- MOving all remainig files to `/raw` folder\n",
    "- Deteling all images of 0-class pokemon (they are not pokemon images)"
   ]
  },
  {
   "cell_type": "code",
   "execution_count": 8,
   "metadata": {},
   "outputs": [],
   "source": [
    "def finish_preprocessing(source_path: str | Path) -> None:\n",
    "    \"\"\"Function does preprocessing steps to our formatted pokemon data\n",
    "\n",
    "    Args:\n",
    "        source_path (str or pathlib.Path): A root of data directory\n",
    "    \"\"\"\n",
    "    source_dir = source_path\n",
    "    target_dir = source_path / \"raw\"\n",
    "    if target_dir.is_dir():\n",
    "        print(\"RAW already created, adding\")\n",
    "    else:\n",
    "        target_dir.mkdir(parents=True, exist_ok=True)\n",
    "    \n",
    "    print(\"Removing GIF's\")\n",
    "    for file_name in source_dir.glob(\"*.png\"):\n",
    "        shutil.move(file_name, target_dir)\n",
    "        \n",
    "    print(\"Moving PNG's to /raw\")\n",
    "    for file_name in source_dir.glob(\"*.gif\"):\n",
    "        os.remove(file_name)\n",
    "        \n",
    "    print(\"Removing 0 class\")\n",
    "    for file_name in target_dir.glob(\"0*\"):\n",
    "        os.remove(file_name)\n",
    "        \n",
    "    ### TODO: DELETE LAST non-CLASSES, DELETE EMPTY FOLDERS\n",
    "        \n",
    "    # print(\"Deleting empty folders\")\n",
    "    # for dirpath, dirnames, filenames in os.walk(target_dir):\n",
    "    #     print(f\"Moving {len(filenames)} images in {dirpath}.\")\n",
    "    #     for file_name in filenames:\n",
    "    #         try:\n",
    "    #             shutil.move(os.path.join(dirpath, file_name), target_dir)\n",
    "    #         except:\n",
    "    #             file_name_arr = file_name.split('.')\n",
    "    #             new_file_name = file_name_arr[0]+'-'+str(random.randrange(10000000))+'.'+file_name_arr[1]\n",
    "    #             shutil.move(os.path.join(dirpath, file_name), target_dir / new_file_name)\n",
    "    "
   ]
  },
  {
   "cell_type": "code",
   "execution_count": 9,
   "metadata": {},
   "outputs": [
    {
     "name": "stdout",
     "output_type": "stream",
     "text": [
      "RAW already created, adding\n",
      "Removing GIF's\n",
      "Moving PNG's to /raw\n",
      "Removing 0 class\n"
     ]
    }
   ],
   "source": [
    "finish_preprocessing(POKEMON_PATH)"
   ]
  },
  {
   "cell_type": "markdown",
   "metadata": {},
   "source": [
    "Подсчитываем оставшиеся изображения:   \n",
    "Counting up remaining files:"
   ]
  },
  {
   "cell_type": "code",
   "execution_count": 10,
   "metadata": {},
   "outputs": [
    {
     "data": {
      "text/plain": [
       "39180"
      ]
     },
     "execution_count": 10,
     "metadata": {},
     "output_type": "execute_result"
    }
   ],
   "source": [
    "len(list((POKEMON_PATH / \"raw\").glob(\"*.png\")))"
   ]
  },
  {
   "cell_type": "markdown",
   "metadata": {},
   "source": [
    "# 2. Preparing classes - *Optional*"
   ]
  },
  {
   "cell_type": "markdown",
   "metadata": {},
   "source": [
    "Выгружаем данные о классах покемонов в `pd.DataFrame` формат, для определения названий покемонов из их id.\n",
    "\n",
    "Loading up class data to `pd.DataFrame` dtype, to link image ids with pokemon names and data"
   ]
  },
  {
   "cell_type": "code",
   "execution_count": 12,
   "metadata": {},
   "outputs": [],
   "source": [
    "import pandas as pd\n",
    "\n",
    "pokemon_data = pd.read_csv(DATA_PATH / 'Pokemon.txt')\n",
    "pokemon_data = pokemon_data.drop_duplicates(subset=[\"#\"],keep=\"first\")\n",
    "pokemon_data = pokemon_data.set_index([\"#\"], drop=True)"
   ]
  },
  {
   "cell_type": "code",
   "execution_count": 16,
   "metadata": {},
   "outputs": [],
   "source": [
    "from typing import List, Tuple"
   ]
  },
  {
   "cell_type": "code",
   "execution_count": 19,
   "metadata": {},
   "outputs": [],
   "source": [
    "def get_classes(df: pd.DataFrame) -> Tuple[List[str], Tuple[int: str]]:\n",
    "    \"\"\"Get classnames as a list and as a tuple of id: class_name\n",
    "\n",
    "    Returns:\n",
    "        List[str], Tuple[int: str]: A list of class_names and a tuple of id to class_name\n",
    "    \"\"\"\n",
    "    classes = df[\"Name\"].unique()\n",
    "    classes_to_idx = {class_name: i for i, class_name in enumerate(classes)}\n",
    "    return classes, classes_to_idx"
   ]
  },
  {
   "cell_type": "code",
   "execution_count": 20,
   "metadata": {},
   "outputs": [],
   "source": [
    "classes, classes_to_idx = get_classes(pokemon_data)"
   ]
  },
  {
   "cell_type": "markdown",
   "metadata": {},
   "source": [
    "# 3. Structured Images to DataLoaders"
   ]
  },
  {
   "cell_type": "markdown",
   "metadata": {},
   "source": [
    "## 3.1 Data Class"
   ]
  },
  {
   "cell_type": "markdown",
   "metadata": {},
   "source": [
    "Код для создания кастомного `Dataset` класса, наследующего `torch.utils.data.Dataset`, реализует функциональность, схожую с `ImageFolder` дата класса из `torchvision` пакета, но с расширенным кастомным функционалом, необходимым для нашего датасета.\n",
    "\n",
    "A custom `Dataset` class, inheriting from `torch.utils.data.Dataset`, functionally simmilar to native `torchvision` data class: `ImageFolder`, but with added functionality for our dataset."
   ]
  },
  {
   "cell_type": "code",
   "execution_count": 21,
   "metadata": {},
   "outputs": [],
   "source": [
    "from torch.utils.data import Dataset\n",
    "from typing import Tuple, Dict, List\n",
    "import torch\n",
    "import re\n",
    "import PIL\n",
    "from PIL import Image\n",
    "\n",
    "class PokemonData(Dataset):\n",
    "    def __init__(self,\n",
    "                 targ_dir: str,\n",
    "                 classes_df: pd.DataFrame,\n",
    "                 transform=None):\n",
    "        super().__init__()\n",
    "        # Getting all image paths \n",
    "        self.paths = list(Path(targ_dir).glob('*.png'))\n",
    "        self.transform = transform\n",
    "        # Utilizing previously made fucntions. refer to 01_data_processing notebook # 2\n",
    "        self.classes, self.classes_to_idx = self.get_classes(classes_df)\n",
    "        \n",
    "    def get_classes(self, df):\n",
    "        classes = df[\"Name\"].unique()\n",
    "        classes_to_idx = {class_name: i for i, class_name in enumerate(classes)}\n",
    "        return classes, classes_to_idx\n",
    "    \n",
    "    def load_image(self, index: int) -> PIL.Image:\n",
    "        \"\"\"Loading image as a PIL Image class by index.\n",
    "\n",
    "        Args:\n",
    "            index (int): A index of loading image\n",
    "\n",
    "        Returns:\n",
    "            PIL.Image: A PIL Image\n",
    "        \"\"\"\n",
    "        image_path = self.paths[index]\n",
    "        image = Image.open(image_path).convert(\"RGBA\")\n",
    "        # Making png transparent background white\n",
    "        return Image.composite(image, Image.new('RGBA', image.size, 'white'), image).convert(\"RGB\")\n",
    "    \n",
    "    \n",
    "    def __len__(self) -> int:\n",
    "        \"\"\"Returns a length of a loaded dataset. Has to be implemented in a custom Dataset class\n",
    "        \n",
    "        Returns:\n",
    "            int: a length of image paths array\n",
    "        \"\"\"\n",
    "        return len(self.paths)\n",
    "    \n",
    "    \n",
    "    def __getitem__(self, index: int) -> Tuple[torch.Tensor, int]:\n",
    "        \"\"\"A function that transforms loaded PIL Image to Tensor and returns it with its class label.\n",
    "\n",
    "        Args:\n",
    "            index (int): An index of image to load\n",
    "\n",
    "        Returns:\n",
    "            Tuple[torch.Tensor, int]: An Image turned to tensor by transform with its class label\n",
    "        \"\"\"\n",
    "        img = self.load_image(index)\n",
    "        img_name = self.paths[index].name.split('.')[0]\n",
    "        # Filtering out all none-digit filenames\n",
    "        img_name = int(re.findall(\"\\d+\", img_name)[0])\n",
    "        class_name = self.classes[img_name]\n",
    "        class_idx = self.classes_to_idx[class_name]\n",
    "        if self.transform:\n",
    "            return self.transform(img), class_idx\n",
    "        else:\n",
    "            return img, class_idx"
   ]
  },
  {
   "cell_type": "markdown",
   "metadata": {},
   "source": [
    "## 3.2 Transformers"
   ]
  },
  {
   "cell_type": "markdown",
   "metadata": {},
   "source": [
    "Шаблонный темплейт для создания трансформеров под наш датасет. Зачастую, в моделях несколько изменяется.   \n",
    "A template image transformer for Pokemon dataset. May differ depending on model architecture."
   ]
  },
  {
   "cell_type": "code",
   "execution_count": 22,
   "metadata": {},
   "outputs": [],
   "source": [
    "from torchvision.transforms import v2\n",
    "\n",
    "image_transformer = v2.Compose([\n",
    "    v2.ToImage(),\n",
    "    v2.Resize(size=(128,128)),\n",
    "    v2.ToDtype(torch.float32, scale=True)\n",
    "])"
   ]
  },
  {
   "cell_type": "code",
   "execution_count": 23,
   "metadata": {},
   "outputs": [],
   "source": [
    "raw_data = PokemonData(targ_dir= POKEMON_PATH / \"raw\",\n",
    "                            transform=image_transformer,\n",
    "                            classes_df=pokemon_data)"
   ]
  },
  {
   "cell_type": "markdown",
   "metadata": {},
   "source": [
    "## 3.3 DataLoaders"
   ]
  },
  {
   "cell_type": "markdown",
   "metadata": {},
   "source": [
    "Чтобы разбить наш датасет на батчи для загрузки в модель - используем `DataLoader`'ы:   \n",
    "To batchify our data we need to create `DataLoaders`"
   ]
  },
  {
   "cell_type": "code",
   "execution_count": 27,
   "metadata": {},
   "outputs": [],
   "source": [
    "\n",
    "import os\n",
    "from torch.utils.data import DataLoader\n",
    "\n",
    "BATCH_SIZE = 32\n",
    "NUM_WORKERS = os.cpu_count() # A number of cpu cores to use when loading data to RAM. More=Better\n",
    "\n",
    "pokemon_dataloader = DataLoader(dataset=raw_data,\n",
    "                                     batch_size=BATCH_SIZE,\n",
    "                                     shuffle=True,\n",
    "                                     num_workers=NUM_WORKERS,\n",
    "                                     pin_memory=True)"
   ]
  }
 ],
 "metadata": {
  "kernelspec": {
   "display_name": "base",
   "language": "python",
   "name": "python3"
  },
  "language_info": {
   "codemirror_mode": {
    "name": "ipython",
    "version": 3
   },
   "file_extension": ".py",
   "mimetype": "text/x-python",
   "name": "python",
   "nbconvert_exporter": "python",
   "pygments_lexer": "ipython3",
   "version": "3.11.5"
  }
 },
 "nbformat": 4,
 "nbformat_minor": 2
}
